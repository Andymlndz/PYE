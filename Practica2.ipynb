{
  "nbformat": 4,
  "nbformat_minor": 0,
  "metadata": {
    "colab": {
      "provenance": [],
      "authorship_tag": "ABX9TyPVYPD0eQtr6J0IW/zNfje4",
      "include_colab_link": true
    },
    "kernelspec": {
      "name": "python3",
      "display_name": "Python 3"
    },
    "language_info": {
      "name": "python"
    }
  },
  "cells": [
    {
      "cell_type": "markdown",
      "metadata": {
        "id": "view-in-github",
        "colab_type": "text"
      },
      "source": [
        "<a href=\"https://colab.research.google.com/github/Andymlndz/PYE/blob/main/Practica2.ipynb\" target=\"_parent\"><img src=\"https://colab.research.google.com/assets/colab-badge.svg\" alt=\"Open In Colab\"/></a>"
      ]
    },
    {
      "cell_type": "markdown",
      "source": [
        "##PROBABILIDAD Y ESTADISTICA\n",
        "###GRUPO 2-Y\n",
        "###UNDAD 1\n",
        "####Docente: Jose Gabriel Rodriguez Rivas\n",
        "####Alumno:Itzel Andrea Melendez Arrieta\n",
        "####Practica2. Maximo, minimo, rango y discrepcion de datos"
      ],
      "metadata": {
        "id": "74kftAG4NPa9"
      }
    },
    {
      "cell_type": "code",
      "source": [
        "import random\n",
        "import matplotlib.pyplot as plt\n",
        "from statistics import *"
      ],
      "metadata": {
        "id": "q218zUGnNhFJ"
      },
      "execution_count": 2,
      "outputs": []
    },
    {
      "cell_type": "code",
      "execution_count": 3,
      "metadata": {
        "colab": {
          "base_uri": "https://localhost:8080/"
        },
        "id": "mfS_r9p2NMOf",
        "outputId": "6686cf66-d037-4b8d-d173-327c2c4ddf94"
      },
      "outputs": [
        {
          "output_type": "stream",
          "name": "stdout",
          "text": [
            "[69.63, 90.76, 96.11, 55.8, 79.88, 93.22, 82.34, 96.49, 93.75, 54.52, 84.54, 96.94, 81.85, 60.0, 56.72, 63.46, 72.46, 84.63, 57.02, 87.46, 96.56, 60.73, 90.99, 81.41, 59.47, 75.21, 60.26, 92.61, 56.2, 72.57, 73.36, 56.59, 82.27, 91.22, 65.37, 99.87, 51.44, 73.07, 99.41, 61.35, 80.33, 85.87, 65.72, 60.53, 65.19, 83.22, 83.86, 52.67, 64.89, 75.48, 77.97, 75.47, 91.56, 73.91, 96.43, 97.73, 53.05, 51.0, 67.77, 54.48, 63.3, 74.92, 61.35, 98.05, 52.54, 92.59, 95.39, 70.79, 77.25, 99.74, 83.58, 67.17, 70.62, 95.56, 74.93, 58.19, 63.67, 57.85, 86.02, 84.23, 80.26, 88.13, 70.56, 65.66, 81.48, 92.64, 70.49, 54.79, 62.7, 60.79, 77.1, 66.82, 50.84, 69.03, 67.88, 66.73, 56.96, 77.82, 98.87, 60.07]\n"
          ]
        }
      ],
      "source": [
        "fabrica1=[]\n",
        "for i in range(100):\n",
        "  numero_aleatorio = round(random.uniform(50, 100), 2 )\n",
        "  fabrica1.append(numero_aleatorio)\n",
        "print(fabrica1)"
      ]
    },
    {
      "cell_type": "code",
      "source": [
        "fabrica2=[]\n",
        "for i in range(100):\n",
        "  numero_aleatorio = round(random.uniform(49, 93), 2 )\n",
        "  fabrica2.append(numero_aleatorio)\n",
        "print(fabrica2)"
      ],
      "metadata": {
        "colab": {
          "base_uri": "https://localhost:8080/"
        },
        "id": "a5vksnOvN8HA",
        "outputId": "ef756119-70e9-44e0-cb8f-d7f001b31995"
      },
      "execution_count": 4,
      "outputs": [
        {
          "output_type": "stream",
          "name": "stdout",
          "text": [
            "[73.58, 70.72, 59.06, 58.89, 49.86, 60.15, 82.9, 62.24, 59.59, 70.28, 56.11, 69.76, 61.78, 69.25, 69.66, 76.52, 87.59, 86.58, 84.16, 54.37, 75.43, 62.45, 63.03, 69.11, 50.52, 67.8, 87.9, 77.94, 49.05, 88.78, 72.61, 55.88, 63.74, 52.47, 50.87, 86.14, 66.84, 78.14, 79.47, 92.17, 66.92, 53.3, 54.25, 82.04, 86.41, 51.67, 75.31, 68.44, 56.44, 58.8, 52.04, 61.78, 73.11, 65.13, 78.31, 81.77, 60.57, 83.63, 88.39, 59.39, 50.04, 58.1, 90.42, 49.88, 78.3, 66.33, 87.06, 65.11, 82.91, 87.14, 79.56, 71.83, 69.12, 64.71, 60.77, 70.39, 69.17, 74.8, 63.75, 83.07, 52.04, 89.27, 87.02, 73.47, 64.37, 50.8, 71.26, 49.34, 78.34, 56.61, 82.81, 83.24, 60.61, 82.87, 67.54, 83.28, 92.86, 65.45, 63.19, 88.54]\n"
          ]
        }
      ]
    },
    {
      "cell_type": "code",
      "source": [
        "maximo1 = max(fabrica1)\n",
        "minimo1 = min (fabrica1)\n",
        "rango1 = maximo1 - minimo1\n",
        "media1 = mean(fabrica1)\n",
        "mediana1 = median(fabrica1)\n",
        "moda1 = mode(fabrica1)\n",
        "print(\"Estadistica descriptiva de la fabrica 1 \\n\", \"Media= \", media1,\n",
        "      \"\\n Mediana= \", mediana1, \"\\n Moda= \", moda1,\"\\n Maximo= \",maximo1,\n",
        "      \"\\n Minmo= \",minimo1,\"\\n Rango= \", rango1)"
      ],
      "metadata": {
        "colab": {
          "base_uri": "https://localhost:8080/"
        },
        "id": "34x0ZO7HOpFN",
        "outputId": "3478862e-1468-4c9f-d1d9-aa02088327cc"
      },
      "execution_count": 5,
      "outputs": [
        {
          "output_type": "stream",
          "name": "stdout",
          "text": [
            "Estadistica descriptiva de la fabrica 1 \n",
            " Media=  74.6203 \n",
            " Mediana=  73.63499999999999 \n",
            " Moda=  61.35 \n",
            " Maximo=  99.87 \n",
            " Minmo=  50.84 \n",
            " Rango=  49.03\n"
          ]
        }
      ]
    },
    {
      "cell_type": "code",
      "source": [
        "maximo2 = max(fabrica2)\n",
        "minimo2 = min (fabrica2)\n",
        "rango2 = maximo2 - minimo2\n",
        "media2 = mean(fabrica2)\n",
        "mediana2 = median(fabrica2)\n",
        "moda2 = mode(fabrica2)\n",
        "print(\"Estadistica descriptiva de la fabrica 2 \\n\", \"Media= \", media2,\n",
        "      \"\\n Mediana= \", mediana2, \"\\n Moda= \", moda2,\"\\n Maximo= \",maximo2,\n",
        "      \"\\n Minmo= \",minimo2,\"\\n Rango= \", rango2)"
      ],
      "metadata": {
        "colab": {
          "base_uri": "https://localhost:8080/"
        },
        "id": "sv0umatlPqwd",
        "outputId": "3d1e9c5c-ec42-42c3-8c47-4aa8944e8a6b"
      },
      "execution_count": 7,
      "outputs": [
        {
          "output_type": "stream",
          "name": "stdout",
          "text": [
            "Estadistica descriptiva de la fabrica 2 \n",
            " Media=  69.7646 \n",
            " Mediana=  69.14500000000001 \n",
            " Moda=  61.78 \n",
            " Maximo=  92.86 \n",
            " Minmo=  49.05 \n",
            " Rango=  43.81\n"
          ]
        }
      ]
    },
    {
      "cell_type": "code",
      "source": [
        "desviacion_estandar_f1 = stdev(fabrica1)\n",
        "print(desviacion_estandar_f1)"
      ],
      "metadata": {
        "colab": {
          "base_uri": "https://localhost:8080/"
        },
        "id": "AYq-VFMFQeJn",
        "outputId": "ae272c88-0638-43f0-876e-a58700ded6f1"
      },
      "execution_count": 8,
      "outputs": [
        {
          "output_type": "stream",
          "name": "stdout",
          "text": [
            "14.590132022512456\n"
          ]
        }
      ]
    },
    {
      "cell_type": "code",
      "source": [
        "desviacion_estandar_f2 = stdev(fabrica2)\n",
        "print(desviacion_estandar_f2)"
      ],
      "metadata": {
        "colab": {
          "base_uri": "https://localhost:8080/"
        },
        "id": "sV6GfBR7Qsl1",
        "outputId": "57ee3d9b-3bc0-40f3-99e2-7df14e42ace1"
      },
      "execution_count": 9,
      "outputs": [
        {
          "output_type": "stream",
          "name": "stdout",
          "text": [
            "12.46437699116076\n"
          ]
        }
      ]
    },
    {
      "cell_type": "code",
      "source": [
        "plt.figure(figsize=(8,6) )\n",
        "plt.hist(fabrica1, bins=10, alpha=0.2, color='b', edgecolor = \"black\")\n",
        "plt.axvline(media1, color='b', linestyle='dashed', linewidth=2, label=f'Media= {media1:.2f}')\n",
        "plt.axvline(mediana1, color='r', linestyle='dashed', linewidth=2, label=f'Mediana= {moda1:.2f}')\n",
        "plt.axvline(moda1, color='y', linestyle='dashed', linewidth=2, label=f'Moda= {moda1:.2f}' )\n",
        "plt.axvline(media1 - desviacion_estandar_f1, color ='black')\n",
        "plt.xlabel ('Valor')\n",
        "plt.ylabel('Frecuencia')\n",
        "plt.title(\"Producción diaria de la fabrica 1\")\n",
        "plt.legend()\n",
        "plt.show()"
      ],
      "metadata": {
        "id": "5h8JfEp1RF9r"
      },
      "execution_count": null,
      "outputs": []
    }
  ]
}